{
 "cells": [
  {
   "cell_type": "markdown",
   "id": "099df9a2",
   "metadata": {},
   "source": [
    "# Habitable Exoplanets -- Research Project "
   ]
  },
  {
   "cell_type": "code",
   "execution_count": 3,
   "id": "f3e065df",
   "metadata": {},
   "outputs": [],
   "source": [
    "import numpy as np\n",
    "import pandas as pd\n",
    "import matplotlib.pyplot as plt"
   ]
  },
  {
   "cell_type": "markdown",
   "id": "259c1a4c",
   "metadata": {},
   "source": [
    "### Trim dataset to only necessary or useful parts"
   ]
  },
  {
   "cell_type": "code",
   "execution_count": 4,
   "id": "b71bd3d1",
   "metadata": {},
   "outputs": [],
   "source": [
    "all_exoplanets = pd.read_csv('kepler.csv')\n",
    "all_exoplanets_drop = all_exoplanets.drop(columns=['angular_distance','orbital_period','eccentricity','inclination','star_distance','star_age','star_metallicity','planet_status','mass','mass_error_min', 'mass_error_max','mass_sini', 'mass_sini_error_min', 'mass_sini_error_max','radius_error_min', 'radius_error_max', 'orbital_period_error_min', 'orbital_period_error_max','semi_major_axis_error_min','semi_major_axis_error_max','eccentricity_error_min','eccentricity_error_max','inclination_error_min','inclination_error_max','omega', 'omega_error_min', 'omega_error_max', 'tperi','tperi_error_min', 'tperi_error_max', 'tconj', 'tconj_error_min','tconj_error_max', 'tzero_tr', 'tzero_tr_error_min','tzero_tr_error_max', 'tzero_tr_sec', 'tzero_tr_sec_error_min','tzero_tr_sec_error_max', 'lambda_angle', 'lambda_angle_error_min','lambda_angle_error_max', 'impact_parameter','impact_parameter_error_min', 'impact_parameter_error_max', 'tzero_vr','tzero_vr_error_min', 'tzero_vr_error_max', 'k', 'k_error_min','k_error_max','temp_calculated_error_min','temp_calculated_error_max','hot_point_lon','geometric_albedo', 'geometric_albedo_error_min','geometric_albedo_error_max', 'log_g', 'publication_status','detection_type', 'mass_detection_type', 'radius_detection_type','alternate_names', 'molecules', 'ra', 'dec','mag_v','mag_i', 'mag_j', 'mag_h', 'mag_k','star_distance_error_min', 'star_distance_error_max','star_metallicity_error_min','star_metallicity_error_max','star_mass_error_min','star_mass_error_max','star_radius_error_min','star_radius_error_max','star_age_error_min', 'star_age_error_max', 'star_teff','star_teff_error_min', 'star_teff_error_max', 'star_detected_disc','star_alternate_names', 'temp_calculated', 'temp_measured', 'star_magnetic_field', 'radius', 'discovered', 'updated'])\n",
    "\n",
    "#drop rows with missing data & reset the index\n",
    "exoplanets = all_exoplanets_drop.dropna()\n",
    "exoplanets = exoplanets.reset_index(drop=True)\n",
    "exoplanets = exoplanets.rename(columns={'star_sp_type':'spectral_type', '# name': 'planet_name'})"
   ]
  },
  {
   "cell_type": "code",
   "execution_count": 5,
   "id": "b881eccf",
   "metadata": {},
   "outputs": [
    {
     "data": {
      "text/html": [
       "<div>\n",
       "<style scoped>\n",
       "    .dataframe tbody tr th:only-of-type {\n",
       "        vertical-align: middle;\n",
       "    }\n",
       "\n",
       "    .dataframe tbody tr th {\n",
       "        vertical-align: top;\n",
       "    }\n",
       "\n",
       "    .dataframe thead th {\n",
       "        text-align: right;\n",
       "    }\n",
       "</style>\n",
       "<table border=\"1\" class=\"dataframe\">\n",
       "  <thead>\n",
       "    <tr style=\"text-align: right;\">\n",
       "      <th></th>\n",
       "      <th>planet_name</th>\n",
       "      <th>semi_major_axis</th>\n",
       "      <th>star_name</th>\n",
       "      <th>star_mass</th>\n",
       "      <th>star_radius</th>\n",
       "      <th>spectral_type</th>\n",
       "    </tr>\n",
       "  </thead>\n",
       "  <tbody>\n",
       "    <tr>\n",
       "      <th>0</th>\n",
       "      <td>11 Com b</td>\n",
       "      <td>1.2900</td>\n",
       "      <td>11 Com</td>\n",
       "      <td>2.70</td>\n",
       "      <td>19.000</td>\n",
       "      <td>G8 III</td>\n",
       "    </tr>\n",
       "    <tr>\n",
       "      <th>1</th>\n",
       "      <td>11 UMi b</td>\n",
       "      <td>1.5400</td>\n",
       "      <td>11 UMi</td>\n",
       "      <td>1.80</td>\n",
       "      <td>24.080</td>\n",
       "      <td>K4III</td>\n",
       "    </tr>\n",
       "    <tr>\n",
       "      <th>2</th>\n",
       "      <td>14 And b</td>\n",
       "      <td>0.8300</td>\n",
       "      <td>14 And</td>\n",
       "      <td>2.20</td>\n",
       "      <td>11.000</td>\n",
       "      <td>K0III</td>\n",
       "    </tr>\n",
       "    <tr>\n",
       "      <th>3</th>\n",
       "      <td>14 Her b</td>\n",
       "      <td>2.7700</td>\n",
       "      <td>14 Her</td>\n",
       "      <td>0.90</td>\n",
       "      <td>0.708</td>\n",
       "      <td>K0 V</td>\n",
       "    </tr>\n",
       "    <tr>\n",
       "      <th>4</th>\n",
       "      <td>16 Cyg B b</td>\n",
       "      <td>1.6800</td>\n",
       "      <td>16 Cyg B</td>\n",
       "      <td>1.01</td>\n",
       "      <td>0.980</td>\n",
       "      <td>G2.5 V</td>\n",
       "    </tr>\n",
       "    <tr>\n",
       "      <th>...</th>\n",
       "      <td>...</td>\n",
       "      <td>...</td>\n",
       "      <td>...</td>\n",
       "      <td>...</td>\n",
       "      <td>...</td>\n",
       "      <td>...</td>\n",
       "    </tr>\n",
       "    <tr>\n",
       "      <th>869</th>\n",
       "      <td>tau Gem b</td>\n",
       "      <td>1.1700</td>\n",
       "      <td>tau Gem</td>\n",
       "      <td>2.30</td>\n",
       "      <td>26.800</td>\n",
       "      <td>K2III</td>\n",
       "    </tr>\n",
       "    <tr>\n",
       "      <th>870</th>\n",
       "      <td>ups And b</td>\n",
       "      <td>0.0590</td>\n",
       "      <td>ups And</td>\n",
       "      <td>1.27</td>\n",
       "      <td>1.631</td>\n",
       "      <td>F8 V</td>\n",
       "    </tr>\n",
       "    <tr>\n",
       "      <th>871</th>\n",
       "      <td>ups And c</td>\n",
       "      <td>0.8610</td>\n",
       "      <td>ups And</td>\n",
       "      <td>1.27</td>\n",
       "      <td>1.631</td>\n",
       "      <td>F8 V</td>\n",
       "    </tr>\n",
       "    <tr>\n",
       "      <th>872</th>\n",
       "      <td>ups And d</td>\n",
       "      <td>2.5500</td>\n",
       "      <td>ups And</td>\n",
       "      <td>1.27</td>\n",
       "      <td>1.631</td>\n",
       "      <td>F8 V</td>\n",
       "    </tr>\n",
       "    <tr>\n",
       "      <th>873</th>\n",
       "      <td>ups And e</td>\n",
       "      <td>5.2456</td>\n",
       "      <td>ups And</td>\n",
       "      <td>1.27</td>\n",
       "      <td>1.631</td>\n",
       "      <td>F8 V</td>\n",
       "    </tr>\n",
       "  </tbody>\n",
       "</table>\n",
       "<p>874 rows × 6 columns</p>\n",
       "</div>"
      ],
      "text/plain": [
       "    planet_name  semi_major_axis star_name  star_mass  star_radius  \\\n",
       "0      11 Com b           1.2900    11 Com       2.70       19.000   \n",
       "1      11 UMi b           1.5400    11 UMi       1.80       24.080   \n",
       "2      14 And b           0.8300    14 And       2.20       11.000   \n",
       "3      14 Her b           2.7700    14 Her       0.90        0.708   \n",
       "4    16 Cyg B b           1.6800  16 Cyg B       1.01        0.980   \n",
       "..          ...              ...       ...        ...          ...   \n",
       "869   tau Gem b           1.1700   tau Gem       2.30       26.800   \n",
       "870   ups And b           0.0590   ups And       1.27        1.631   \n",
       "871   ups And c           0.8610   ups And       1.27        1.631   \n",
       "872   ups And d           2.5500   ups And       1.27        1.631   \n",
       "873   ups And e           5.2456   ups And       1.27        1.631   \n",
       "\n",
       "    spectral_type  \n",
       "0          G8 III  \n",
       "1           K4III  \n",
       "2           K0III  \n",
       "3            K0 V  \n",
       "4          G2.5 V  \n",
       "..            ...  \n",
       "869         K2III  \n",
       "870          F8 V  \n",
       "871          F8 V  \n",
       "872          F8 V  \n",
       "873          F8 V  \n",
       "\n",
       "[874 rows x 6 columns]"
      ]
     },
     "execution_count": 5,
     "metadata": {},
     "output_type": "execute_result"
    }
   ],
   "source": [
    "exoplanets"
   ]
  },
  {
   "cell_type": "markdown",
   "id": "952f5d9f",
   "metadata": {},
   "source": [
    "### Divide data into its various parts"
   ]
  },
  {
   "cell_type": "code",
   "execution_count": 6,
   "id": "46415643",
   "metadata": {},
   "outputs": [],
   "source": [
    "planet_name = exoplanets['planet_name']\n",
    "star_name = exoplanets['star_name']\n",
    "semi_major_axis = exoplanets['semi_major_axis']\n",
    "star_mass = exoplanets['star_mass']\n",
    "star_radius = exoplanets['star_radius']\n",
    "spectral_type = exoplanets['spectral_type']"
   ]
  },
  {
   "cell_type": "code",
   "execution_count": 24,
   "id": "590de6ac",
   "metadata": {},
   "outputs": [],
   "source": [
    "class exoplanet(object):\n",
    "    def __init__(self,pl_name,st_name,semi_major,st_mass,st_radius,st_spectral):\n",
    "        \n",
    "        self.pl_name = pl_name\n",
    "        self.st_name = st_name\n",
    "        self.semi_major = semi_major\n",
    "        self.st_mass = st_mass\n",
    "        self.st_radius = st_radius\n",
    "        self.st_spectral = st_spectral\n",
    "        self.st_temp = self.calculate_temp()\n",
    "        self.st_lum = 4*np.pi*((st_radius*696342000)**2)*5.67e-8*(self.st_temp**4)\n",
    "        self.habitable_zone = self.find_habitable_zone()\n",
    "        self.habitability = self.find_habitability()\n",
    "        \n",
    "    def calculate_temp(self):\n",
    "        if self.st_spectral[0] == 'O':\n",
    "            return 40000\n",
    "        elif self.st_spectral[0] == 'B':\n",
    "            return 20000\n",
    "        elif self.st_spectral[0] == 'A':\n",
    "            return 8750\n",
    "        elif self.st_spectral[0] == 'F':\n",
    "            return 6750\n",
    "        elif self.st_spectral[0] == 'G':\n",
    "            return 5500\n",
    "        elif self.st_spectral[0] == 'K':\n",
    "            return 4250\n",
    "        elif self.st_spectral[0] == 'M':\n",
    "            return 3000\n",
    "        elif self.st_spectral[0] == 's':\n",
    "            return 30000\n",
    "        else:\n",
    "            return 3500\n",
    "    \n",
    "    def find_habitable_zone(self):\n",
    "        scale = np.sqrt(self.st_lum / 3.828e26)\n",
    "        \n",
    "        inner = 0.95 * scale\n",
    "        outer = 1.37 * scale\n",
    "        \n",
    "        return (inner,outer)\n",
    "        \n",
    "    def get_pl_name(self):\n",
    "        return self.pl_name\n",
    "    \n",
    "    def get_st_name(self):\n",
    "        return self.st_name\n",
    "    \n",
    "    def get_semi(self):\n",
    "        return self.semi_major\n",
    "    \n",
    "    def get_st_mass(self):\n",
    "        return self.st_mass\n",
    "    \n",
    "    def get_st_radius(self):\n",
    "        return self.st_radius\n",
    "    \n",
    "    def get_st_spectral(self):\n",
    "        return self.st_spectral\n",
    "    \n",
    "    def get_st_lum(self):\n",
    "        return self.st_lum\n",
    "    \n",
    "    def get_st_temp(self):\n",
    "        return self.st_temp\n",
    "    \n",
    "    def get_habitable_zone(self):\n",
    "        return self.habitable_zone\n",
    "    \n",
    "    def find_habitability(self):\n",
    "        if (self.habitable_zone[0] < self.semi_major) and (self.semi_major < self.habitable_zone[1]):\n",
    "            return 1\n",
    "        else:\n",
    "            return 0\n",
    "            "
   ]
  },
  {
   "cell_type": "markdown",
   "id": "d423e555",
   "metadata": {},
   "source": [
    "### Convert data into exoplanet objects"
   ]
  },
  {
   "cell_type": "code",
   "execution_count": 25,
   "id": "3f3afca8",
   "metadata": {},
   "outputs": [
    {
     "data": {
      "text/plain": [
       "874"
      ]
     },
     "execution_count": 25,
     "metadata": {},
     "output_type": "execute_result"
    }
   ],
   "source": [
    "exoplanet_list = []\n",
    "\n",
    "for row in exoplanets.iterrows():\n",
    "    exoplanet_list.append(exoplanet(row[1][0],row[1][2],row[1][1],row[1][3],row[1][4],row[1][5]))\n",
    "    \n",
    "len(exoplanet_list)"
   ]
  },
  {
   "cell_type": "code",
   "execution_count": 26,
   "id": "8a2160cb",
   "metadata": {},
   "outputs": [],
   "source": [
    "habitable_zone_list=[]\n",
    "\n",
    "for obj in exoplanet_list:\n",
    "    habitable_zone_list.append(obj.get_habitable_zone())"
   ]
  },
  {
   "cell_type": "code",
   "execution_count": 27,
   "id": "129a0f5e",
   "metadata": {},
   "outputs": [],
   "source": [
    "semi_major_axis_list=[]\n",
    "\n",
    "for obj in exoplanet_list:\n",
    "    semi_major_axis_list.append(obj.get_semi())"
   ]
  },
  {
   "cell_type": "code",
   "execution_count": 30,
   "id": "d78df433",
   "metadata": {},
   "outputs": [],
   "source": [
    "habitability_list=[]\n",
    "\n",
    "for obj in exoplanet_list:\n",
    "    habitability_list.append(obj.find_habitability())"
   ]
  },
  {
   "cell_type": "code",
   "execution_count": 42,
   "id": "14717950",
   "metadata": {},
   "outputs": [
    {
     "name": "stdout",
     "output_type": "stream",
     "text": [
      "823 is the number of uninhabitable exoplanets\n",
      "51 is the number of habitable exoplanets\n"
     ]
    }
   ],
   "source": [
    "habitability_array=np.array(habitability_list)\n",
    "habitable_number=int(len(np.where(habitability_array==0)[0]))\n",
    "nonhabitable_number=int(len(np.where(habitability_array==1)[0]))\n",
    "print(len(np.where(habitability_array==0)[0]), \"is the number of uninhabitable exoplanets\")\n",
    "print(len(np.where(habitability_array==1)[0]), \"is the number of habitable exoplanets\")"
   ]
  },
  {
   "cell_type": "code",
   "execution_count": 46,
   "id": "8631058a",
   "metadata": {},
   "outputs": [
    {
     "data": {
      "text/plain": [
       "([<matplotlib.patches.Wedge at 0x7f73bf5a8ac0>,\n",
       "  <matplotlib.patches.Wedge at 0x7f73bf5a8fa0>],\n",
       " [Text(-1.0815683821419964, 0.20052390069701076, ''),\n",
       "  Text(1.0815683774483955, -0.2005239260129456, '')])"
      ]
     },
     "execution_count": 46,
     "metadata": {},
     "output_type": "execute_result"
    },
    {
     "data": {
      "image/png": "[encoded data removed]",
      "text/plain": [
       "<Figure size 432x288 with 1 Axes>"
      ]
     },
     "metadata": {},
     "output_type": "display_data"
    }
   ],
   "source": [
    "data=[habitable_number,nonhabitable_number]\n",
    "data\n",
    "plt.pie(data)"
   ]
  },
  {
   "cell_type": "code",
   "execution_count": null,
   "id": "79d1695b",
   "metadata": {},
   "outputs": [],
   "source": []
  }
 ],
 "metadata": {
  "kernelspec": {
   "display_name": "Python 3",
   "language": "python",
   "name": "python3"
  },
  "language_info": {
   "codemirror_mode": {
    "name": "ipython",
    "version": 3
   },
   "file_extension": ".py",
   "mimetype": "text/x-python",
   "name": "python",
   "nbconvert_exporter": "python",
   "pygments_lexer": "ipython3",
   "version": "3.8.8"
  }
 },
 "nbformat": 4,
 "nbformat_minor": 5
}
